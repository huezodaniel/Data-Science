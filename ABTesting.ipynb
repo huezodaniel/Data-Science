{
 "cells": [
  {
   "cell_type": "code",
   "execution_count": 1,
   "metadata": {},
   "outputs": [],
   "source": [
    "import numpy as np\n",
    "import pandas as pd\n",
    "from seaborn import histplot,displot"
   ]
  },
  {
   "cell_type": "code",
   "execution_count": 24,
   "metadata": {},
   "outputs": [
    {
     "data": {
      "text/plain": [
       "1.6"
      ]
     },
     "execution_count": 24,
     "metadata": {},
     "output_type": "execute_result"
    }
   ],
   "source": [
    "resultado = []\n",
    "contador = 0\n",
    "for i in range(0,1000): \n",
    "    grupo1 = np.random.normal(1.1, 0.5, 50)\n",
    "    grupo2 = np.random.normal(1.3,0.5,50)\n",
    "    resultado.append(np.mean(grupo2) - np.mean(grupo1))\n",
    "    if((np.mean(grupo2) - np.mean(grupo1)) < 0):\n",
    "        contador+=1\n",
    "\n",
    "np.mean(resultado)\n",
    "\n",
    "\n",
    "contador/1000*100"
   ]
  },
  {
   "cell_type": "code",
   "execution_count": 25,
   "metadata": {},
   "outputs": [
    {
     "data": {
      "text/plain": [
       "0.4"
      ]
     },
     "execution_count": 25,
     "metadata": {},
     "output_type": "execute_result"
    }
   ],
   "source": [
    "resultado = []\n",
    "contador = 0\n",
    "for i in range(0,1000): \n",
    "    grupo1 = np.random.normal(1.1, 0.5, 100)\n",
    "    grupo2 = np.random.normal(1.3,0.5,100)\n",
    "    resultado.append(np.mean(grupo2) - np.mean(grupo1))\n",
    "    if((np.mean(grupo2) - np.mean(grupo1)) < 0):\n",
    "        contador+=1\n",
    "\n",
    "np.mean(resultado)\n",
    "\n",
    "\n",
    "contador/1000*100"
   ]
  },
  {
   "cell_type": "code",
   "execution_count": 23,
   "metadata": {},
   "outputs": [
    {
     "data": {
      "text/plain": [
       "<seaborn.axisgrid.FacetGrid at 0x1f89976f250>"
      ]
     },
     "execution_count": 23,
     "metadata": {},
     "output_type": "execute_result"
    },
    {
     "data": {
      "image/png": "[encoded data removed]",
      "text/plain": [
       "<Figure size 447.25x360 with 1 Axes>"
      ]
     },
     "metadata": {
      "needs_background": "light"
     },
     "output_type": "display_data"
    }
   ],
   "source": [
    "dataFrameAB = pd.DataFrame()\n",
    "dataFrameAB['Diferencia'] = resultado\n",
    "displot(dataFrameAB)"
   ]
  },
  {
   "cell_type": "code",
   "execution_count": 27,
   "metadata": {},
   "outputs": [
    {
     "data": {
      "text/plain": [
       "array([ 9.00630063e-01,  1.24099485e+00,  3.07540392e+00,  2.17142333e+00,\n",
       "        1.10380578e+00,  1.25765972e+00,  1.01749245e+00,  3.56427847e+00,\n",
       "        1.28759459e+00,  2.85178110e+00,  1.26832428e-01,  3.30217400e-01,\n",
       "        2.30563946e+00,  3.65461550e-01,  2.54776193e+00,  1.10296636e+00,\n",
       "        3.00056414e-01,  1.42650845e+00,  2.08766586e+00,  1.42474285e+00,\n",
       "        2.06476346e+00,  1.56342869e-01, -3.58543339e-01,  1.40969483e+00,\n",
       "        2.31136348e-01,  5.45075045e-01, -1.26280217e-01,  2.48403679e+00,\n",
       "       -5.40324805e-01,  7.22089328e-01,  8.93007909e-01,  1.82251094e+00,\n",
       "        1.84984733e+00,  1.98612426e+00,  7.98784200e-01,  3.50623945e+00,\n",
       "        3.52366675e+00,  2.69646344e+00,  2.14976544e+00,  1.26351247e+00,\n",
       "        2.32438919e-02,  1.96659666e+00,  8.29274395e-01,  1.55123910e+00,\n",
       "        1.00214737e+00,  3.22659989e+00,  1.58239215e+00, -3.47253253e-01,\n",
       "        1.52579895e+00, -3.56964709e-01, -3.34691990e-01,  1.04754803e+00,\n",
       "        1.16618026e+00,  1.22843638e+00,  1.99859729e+00,  2.24920342e+00,\n",
       "        1.64396985e+00,  8.75658032e-01, -9.67023736e-02,  1.27981821e+00,\n",
       "        7.37970950e-01,  1.02427906e+00,  2.12347102e+00,  2.21860949e-01,\n",
       "        1.32187447e+00, -1.96919741e-01,  2.95403015e+00,  1.47889583e+00,\n",
       "        9.27609020e-01, -1.98832143e-03,  3.04562200e-01,  1.25163402e+00,\n",
       "        3.18960349e-01,  4.29237284e-01,  2.48931956e+00, -1.26050590e+00,\n",
       "       -1.81323275e-01,  1.65347449e+00,  1.71472322e+00,  8.20394375e-01,\n",
       "        7.67853216e-01, -2.82647839e-01,  1.57965954e+00, -1.07245746e+00,\n",
       "        1.05247014e+00,  1.66257039e+00,  1.38838212e+00,  1.36986556e+00,\n",
       "        2.56876076e+00,  8.94546925e-01,  2.75070563e+00,  2.07311718e+00,\n",
       "       -2.54574877e-01, -4.26907327e-01,  6.73088187e-01,  2.47728802e+00,\n",
       "        1.57111910e+00,  5.46713752e-01,  1.35573916e+00,  5.32284865e-01])"
      ]
     },
     "execution_count": 27,
     "metadata": {},
     "output_type": "execute_result"
    }
   ],
   "source": []
  }
 ],
 "metadata": {
  "interpreter": {
   "hash": "fb698bdeab99cfbf9e31cab566d99a06e057f2dec3dcc8097ebabb329e860e16"
  },
  "kernelspec": {
   "display_name": "Python 3.8.8 64-bit ('base': conda)",
   "language": "python",
   "name": "python3"
  },
  "language_info": {
   "codemirror_mode": {
    "name": "ipython",
    "version": 3
   },
   "file_extension": ".py",
   "mimetype": "text/x-python",
   "name": "python",
   "nbconvert_exporter": "python",
   "pygments_lexer": "ipython3",
   "version": "3.8.8"
  },
  "orig_nbformat": 4
 },
 "nbformat": 4,
 "nbformat_minor": 2
}
